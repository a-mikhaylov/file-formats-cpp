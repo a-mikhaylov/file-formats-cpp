{
 "cells": [
  {
   "attachments": {},
   "cell_type": "markdown",
   "metadata": {},
   "source": [
    "Инициализация"
   ]
  },
  {
   "cell_type": "code",
   "execution_count": 7,
   "metadata": {},
   "outputs": [
    {
     "data": {
      "text/html": [
       "<div class=\"data-frame\"><p>120 rows × 15 columns (omitted printing of 9 columns)</p><table class=\"data-frame\"><thead><tr><th></th><th>run_nr</th><th>file_id</th><th>ch_num</th><th>all_points</th><th>compresion_type</th><th>quant_points</th></tr><tr><th></th><th title=\"Int64\">Int64</th><th title=\"String31\">String31</th><th title=\"Int64\">Int64</th><th title=\"Int64\">Int64</th><th title=\"String7\">String7</th><th title=\"Int64\">Int64</th></tr></thead><tbody><tr><th>1</th><td>0</td><td>/big-1000-UNCOMP.parquet</td><td>8</td><td>60267138</td><td>UNCOMP</td><td>1000</td></tr><tr><th>2</th><td>1</td><td>/big-1000-UNCOMP.parquet</td><td>8</td><td>60267138</td><td>UNCOMP</td><td>1000</td></tr><tr><th>3</th><td>2</td><td>/big-1000-UNCOMP.parquet</td><td>8</td><td>60267138</td><td>UNCOMP</td><td>1000</td></tr><tr><th>4</th><td>3</td><td>/big-1000-UNCOMP.parquet</td><td>8</td><td>60267138</td><td>UNCOMP</td><td>1000</td></tr><tr><th>5</th><td>4</td><td>/big-1000-UNCOMP.parquet</td><td>8</td><td>60267138</td><td>UNCOMP</td><td>1000</td></tr><tr><th>6</th><td>5</td><td>/big-1000-GZIP.parquet</td><td>8</td><td>60267138</td><td>GZIP</td><td>1000</td></tr><tr><th>7</th><td>6</td><td>/big-1000-GZIP.parquet</td><td>8</td><td>60267138</td><td>GZIP</td><td>1000</td></tr><tr><th>8</th><td>7</td><td>/big-1000-GZIP.parquet</td><td>8</td><td>60267138</td><td>GZIP</td><td>1000</td></tr><tr><th>9</th><td>8</td><td>/big-1000-GZIP.parquet</td><td>8</td><td>60267138</td><td>GZIP</td><td>1000</td></tr><tr><th>10</th><td>9</td><td>/big-1000-GZIP.parquet</td><td>8</td><td>60267138</td><td>GZIP</td><td>1000</td></tr><tr><th>11</th><td>10</td><td>/big-1000-ZSTD.parquet</td><td>8</td><td>60267138</td><td>ZSTD</td><td>1000</td></tr><tr><th>12</th><td>11</td><td>/big-1000-ZSTD.parquet</td><td>8</td><td>60267138</td><td>ZSTD</td><td>1000</td></tr><tr><th>13</th><td>12</td><td>/big-1000-ZSTD.parquet</td><td>8</td><td>60267138</td><td>ZSTD</td><td>1000</td></tr><tr><th>14</th><td>13</td><td>/big-1000-ZSTD.parquet</td><td>8</td><td>60267138</td><td>ZSTD</td><td>1000</td></tr><tr><th>15</th><td>14</td><td>/big-1000-ZSTD.parquet</td><td>8</td><td>60267138</td><td>ZSTD</td><td>1000</td></tr><tr><th>16</th><td>15</td><td>/big-1000-SNAPPY.parquet</td><td>8</td><td>60267138</td><td>SNAPPY</td><td>1000</td></tr><tr><th>17</th><td>16</td><td>/big-1000-SNAPPY.parquet</td><td>8</td><td>60267138</td><td>SNAPPY</td><td>1000</td></tr><tr><th>18</th><td>17</td><td>/big-1000-SNAPPY.parquet</td><td>8</td><td>60267138</td><td>SNAPPY</td><td>1000</td></tr><tr><th>19</th><td>18</td><td>/big-1000-SNAPPY.parquet</td><td>8</td><td>60267138</td><td>SNAPPY</td><td>1000</td></tr><tr><th>20</th><td>19</td><td>/big-1000-SNAPPY.parquet</td><td>8</td><td>60267138</td><td>SNAPPY</td><td>1000</td></tr><tr><th>21</th><td>20</td><td>/big-5000-UNCOMP.parquet</td><td>8</td><td>60267138</td><td>UNCOMP</td><td>5000</td></tr><tr><th>22</th><td>21</td><td>/big-5000-UNCOMP.parquet</td><td>8</td><td>60267138</td><td>UNCOMP</td><td>5000</td></tr><tr><th>23</th><td>22</td><td>/big-5000-UNCOMP.parquet</td><td>8</td><td>60267138</td><td>UNCOMP</td><td>5000</td></tr><tr><th>24</th><td>23</td><td>/big-5000-UNCOMP.parquet</td><td>8</td><td>60267138</td><td>UNCOMP</td><td>5000</td></tr><tr><th>&vellip;</th><td>&vellip;</td><td>&vellip;</td><td>&vellip;</td><td>&vellip;</td><td>&vellip;</td><td>&vellip;</td></tr></tbody></table></div>"
      ],
      "text/latex": [
       "\\begin{tabular}{r|ccccccc}\n",
       "\t& run\\_nr & file\\_id & ch\\_num & all\\_points & compresion\\_type & quant\\_points & \\\\\n",
       "\t\\hline\n",
       "\t& Int64 & String31 & Int64 & Int64 & String7 & Int64 & \\\\\n",
       "\t\\hline\n",
       "\t1 & 0 & /big-1000-UNCOMP.parquet & 8 & 60267138 & UNCOMP & 1000 & $\\dots$ \\\\\n",
       "\t2 & 1 & /big-1000-UNCOMP.parquet & 8 & 60267138 & UNCOMP & 1000 & $\\dots$ \\\\\n",
       "\t3 & 2 & /big-1000-UNCOMP.parquet & 8 & 60267138 & UNCOMP & 1000 & $\\dots$ \\\\\n",
       "\t4 & 3 & /big-1000-UNCOMP.parquet & 8 & 60267138 & UNCOMP & 1000 & $\\dots$ \\\\\n",
       "\t5 & 4 & /big-1000-UNCOMP.parquet & 8 & 60267138 & UNCOMP & 1000 & $\\dots$ \\\\\n",
       "\t6 & 5 & /big-1000-GZIP.parquet & 8 & 60267138 & GZIP & 1000 & $\\dots$ \\\\\n",
       "\t7 & 6 & /big-1000-GZIP.parquet & 8 & 60267138 & GZIP & 1000 & $\\dots$ \\\\\n",
       "\t8 & 7 & /big-1000-GZIP.parquet & 8 & 60267138 & GZIP & 1000 & $\\dots$ \\\\\n",
       "\t9 & 8 & /big-1000-GZIP.parquet & 8 & 60267138 & GZIP & 1000 & $\\dots$ \\\\\n",
       "\t10 & 9 & /big-1000-GZIP.parquet & 8 & 60267138 & GZIP & 1000 & $\\dots$ \\\\\n",
       "\t11 & 10 & /big-1000-ZSTD.parquet & 8 & 60267138 & ZSTD & 1000 & $\\dots$ \\\\\n",
       "\t12 & 11 & /big-1000-ZSTD.parquet & 8 & 60267138 & ZSTD & 1000 & $\\dots$ \\\\\n",
       "\t13 & 12 & /big-1000-ZSTD.parquet & 8 & 60267138 & ZSTD & 1000 & $\\dots$ \\\\\n",
       "\t14 & 13 & /big-1000-ZSTD.parquet & 8 & 60267138 & ZSTD & 1000 & $\\dots$ \\\\\n",
       "\t15 & 14 & /big-1000-ZSTD.parquet & 8 & 60267138 & ZSTD & 1000 & $\\dots$ \\\\\n",
       "\t16 & 15 & /big-1000-SNAPPY.parquet & 8 & 60267138 & SNAPPY & 1000 & $\\dots$ \\\\\n",
       "\t17 & 16 & /big-1000-SNAPPY.parquet & 8 & 60267138 & SNAPPY & 1000 & $\\dots$ \\\\\n",
       "\t18 & 17 & /big-1000-SNAPPY.parquet & 8 & 60267138 & SNAPPY & 1000 & $\\dots$ \\\\\n",
       "\t19 & 18 & /big-1000-SNAPPY.parquet & 8 & 60267138 & SNAPPY & 1000 & $\\dots$ \\\\\n",
       "\t20 & 19 & /big-1000-SNAPPY.parquet & 8 & 60267138 & SNAPPY & 1000 & $\\dots$ \\\\\n",
       "\t21 & 20 & /big-5000-UNCOMP.parquet & 8 & 60267138 & UNCOMP & 5000 & $\\dots$ \\\\\n",
       "\t22 & 21 & /big-5000-UNCOMP.parquet & 8 & 60267138 & UNCOMP & 5000 & $\\dots$ \\\\\n",
       "\t23 & 22 & /big-5000-UNCOMP.parquet & 8 & 60267138 & UNCOMP & 5000 & $\\dots$ \\\\\n",
       "\t24 & 23 & /big-5000-UNCOMP.parquet & 8 & 60267138 & UNCOMP & 5000 & $\\dots$ \\\\\n",
       "\t$\\dots$ & $\\dots$ & $\\dots$ & $\\dots$ & $\\dots$ & $\\dots$ & $\\dots$ &  \\\\\n",
       "\\end{tabular}\n"
      ],
      "text/plain": [
       "\u001b[1m120×15 DataFrame\u001b[0m\n",
       "\u001b[1m Row \u001b[0m│\u001b[1m run_nr \u001b[0m\u001b[1m file_id                    \u001b[0m\u001b[1m ch_num \u001b[0m\u001b[1m all_points \u001b[0m\u001b[1m compresion_type\u001b[0m ⋯\n",
       "\u001b[1m     \u001b[0m│\u001b[90m Int64  \u001b[0m\u001b[90m String31                   \u001b[0m\u001b[90m Int64  \u001b[0m\u001b[90m Int64      \u001b[0m\u001b[90m String7        \u001b[0m ⋯\n",
       "─────┼──────────────────────────────────────────────────────────────────────────\n",
       "   1 │      0  /big-1000-UNCOMP.parquet         8    60267138  UNCOMP          ⋯\n",
       "   2 │      1  /big-1000-UNCOMP.parquet         8    60267138  UNCOMP\n",
       "   3 │      2  /big-1000-UNCOMP.parquet         8    60267138  UNCOMP\n",
       "   4 │      3  /big-1000-UNCOMP.parquet         8    60267138  UNCOMP\n",
       "   5 │      4  /big-1000-UNCOMP.parquet         8    60267138  UNCOMP          ⋯\n",
       "   6 │      5  /big-1000-GZIP.parquet           8    60267138  GZIP\n",
       "   7 │      6  /big-1000-GZIP.parquet           8    60267138  GZIP\n",
       "   8 │      7  /big-1000-GZIP.parquet           8    60267138  GZIP\n",
       "  ⋮  │   ⋮                 ⋮                 ⋮         ⋮              ⋮        ⋱\n",
       " 114 │    113  /big-200000-ZSTD.parquet         8    60267138  ZSTD            ⋯\n",
       " 115 │    114  /big-200000-ZSTD.parquet         8    60267138  ZSTD\n",
       " 116 │    115  /big-200000-SNAPPY.parquet       8    60267138  SNAPPY\n",
       " 117 │    116  /big-200000-SNAPPY.parquet       8    60267138  SNAPPY\n",
       " 118 │    117  /big-200000-SNAPPY.parquet       8    60267138  SNAPPY          ⋯\n",
       " 119 │    118  /big-200000-SNAPPY.parquet       8    60267138  SNAPPY\n",
       " 120 │    119  /big-200000-SNAPPY.parquet       8    60267138  SNAPPY\n",
       "\u001b[36m                                                 10 columns and 105 rows omitted\u001b[0m"
      ]
     },
     "metadata": {},
     "output_type": "display_data"
    }
   ],
   "source": [
    "using Plots \n",
    "using StatsPlots\n",
    "using DataFrames\n",
    "using CSV\n",
    "\n",
    "Big   = \"../Logs/LogTestBig1-2-3_copy.csv\"\n",
    "Small = \"../Logs/LogTest1-2-3_copy2.csv\"\n",
    "Cash  = \"../Logs/LogTestCash.csv\"\n",
    "df = CSV.File(Big) |> DataFrame"
   ]
  },
  {
   "attachments": {},
   "cell_type": "markdown",
   "metadata": {},
   "source": [
    "Зависимость времени записи от времени чтения (скрытый параметр - размер кванта)"
   ]
  },
  {
   "cell_type": "code",
   "execution_count": 8,
   "metadata": {},
   "outputs": [],
   "source": [
    "@df df plot(:time_read, \n",
    "            :time_write, \n",
    "            group = :compresion_type, \n",
    "            xlabel = \"Time Read, c\",\n",
    "            ylabel = \"Time Write, c\",\n",
    "            marker = :circle)\n",
    "savefig(\"Plots/BigWrite_t(read_t).png\")\n"
   ]
  },
  {
   "attachments": {},
   "cell_type": "markdown",
   "metadata": {},
   "source": [
    "Зависимость коеффициента сжатия от размера кванта"
   ]
  },
  {
   "cell_type": "code",
   "execution_count": 9,
   "metadata": {},
   "outputs": [],
   "source": [
    "@df df plot(:quant_points, \n",
    "            :compression_coef, \n",
    "            group = :compresion_type,\n",
    "            xlabel = \"Quant Points\",\n",
    "            ylabel = \"Compression Coef\", \n",
    "            marker = :circle)\n",
    "savefig(\"Plots/BigCompression_coef(quant_points).png\")"
   ]
  },
  {
   "attachments": {},
   "cell_type": "markdown",
   "metadata": {},
   "source": [
    "Зависимость времени чтения интервала от его размера"
   ]
  },
  {
   "cell_type": "code",
   "execution_count": 10,
   "metadata": {},
   "outputs": [],
   "source": [
    "@df df plot(:read_interval_points, \n",
    "            :read_interval_time, \n",
    "            group = :compresion_type, \n",
    "            xlabel = \"Read Interval Points\",\n",
    "            ylabel = \"Read INterval TIme, c\",\n",
    "            marker = :circle)\n",
    "savefig(\"Plots/BigRead_interval_time(read_interval_points).png\")"
   ]
  }
 ],
 "metadata": {
  "kernelspec": {
   "display_name": "Julia 1.8.0-rc1",
   "language": "julia",
   "name": "julia-1.8"
  },
  "language_info": {
   "file_extension": ".jl",
   "mimetype": "application/julia",
   "name": "julia",
   "version": "1.8.0-rc1"
  },
  "orig_nbformat": 4
 },
 "nbformat": 4,
 "nbformat_minor": 2
}
