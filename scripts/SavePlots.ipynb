{
 "cells": [
  {
   "attachments": {},
   "cell_type": "markdown",
   "metadata": {},
   "source": [
    "Инициализация"
   ]
  },
  {
   "cell_type": "code",
   "execution_count": 1,
   "metadata": {},
   "outputs": [
    {
     "ename": "InitError",
     "evalue": "InitError: InterruptException:\nduring initialization of module Rmath",
     "output_type": "error",
     "traceback": [
      "InitError: InterruptException:\n",
      "during initialization of module Rmath\n",
      "\n",
      "Stacktrace:\n",
      "  [1] _include_from_serialized(pkg::Base.PkgId, path::String, depmods::Vector{Any})\n",
      "    @ Base ./loading.jl:814\n",
      "  [2] _require_search_from_serialized(pkg::Base.PkgId, sourcepath::String, depth::Int64)\n",
      "    @ Base ./loading.jl:923\n",
      "  [3] _tryrequire_from_serialized(modkey::Base.PkgId, build_id::UInt64, modpath::String, depth::Int64)\n",
      "    @ Base ./loading.jl:849\n",
      "  [4] _require_search_from_serialized(pkg::Base.PkgId, sourcepath::String, depth::Int64)\n",
      "    @ Base ./loading.jl:912\n",
      "  [5] _tryrequire_from_serialized(modkey::Base.PkgId, build_id::UInt64, modpath::Nothing, depth::Int64)\n",
      "    @ Base ./loading.jl:849\n",
      "  [6] _tryrequire_from_serialized\n",
      "    @ ./loading.jl:839 [inlined]\n",
      "  [7] _require_from_serialized(pkg::Base.PkgId, path::String)\n",
      "    @ Base ./loading.jl:880\n",
      "  [8] _require(pkg::Base.PkgId)\n",
      "    @ Base ./loading.jl:1213\n",
      "  [9] _require_prelocked(uuidkey::Base.PkgId)\n",
      "    @ Base ./loading.jl:1091\n",
      " [10] macro expansion\n",
      "    @ ./loading.jl:1071 [inlined]\n",
      " [11] macro expansion\n",
      "    @ ./lock.jl:223 [inlined]\n",
      " [12] require(into::Module, mod::Symbol)\n",
      "    @ Base ./loading.jl:1035\n",
      " [13] eval\n",
      "    @ ./boot.jl:368 [inlined]\n",
      " [14] include_string(mapexpr::typeof(REPL.softscope), mod::Module, code::String, filename::String)\n",
      "    @ Base ./loading.jl:1281\n",
      " [15] #invokelatest#2\n",
      "    @ ./essentials.jl:729 [inlined]\n",
      " [16] invokelatest\n",
      "    @ ./essentials.jl:726 [inlined]\n",
      " [17] (::VSCodeServer.var\"#198#199\"{VSCodeServer.NotebookRunCellArguments, String})()\n",
      "    @ VSCodeServer ~/.vscode/extensions/julialang.language-julia-1.38.2/scripts/packages/VSCodeServer/src/serve_notebook.jl:19\n",
      " [18] withpath(f::VSCodeServer.var\"#198#199\"{VSCodeServer.NotebookRunCellArguments, String}, path::String)\n",
      "    @ VSCodeServer ~/.vscode/extensions/julialang.language-julia-1.38.2/scripts/packages/VSCodeServer/src/repl.jl:249\n",
      " [19] notebook_runcell_request(conn::VSCodeServer.JSONRPC.JSONRPCEndpoint{Base.PipeEndpoint, Base.PipeEndpoint}, params::VSCodeServer.NotebookRunCellArguments)\n",
      "    @ VSCodeServer ~/.vscode/extensions/julialang.language-julia-1.38.2/scripts/packages/VSCodeServer/src/serve_notebook.jl:13\n",
      " [20] dispatch_msg(x::VSCodeServer.JSONRPC.JSONRPCEndpoint{Base.PipeEndpoint, Base.PipeEndpoint}, dispatcher::VSCodeServer.JSONRPC.MsgDispatcher, msg::Dict{String, Any})\n",
      "    @ VSCodeServer.JSONRPC ~/.vscode/extensions/julialang.language-julia-1.38.2/scripts/packages/JSONRPC/src/typed.jl:67\n",
      " [21] serve_notebook(pipename::String, outputchannel_logger::Base.CoreLogging.SimpleLogger; crashreporting_pipename::String)\n",
      "    @ VSCodeServer ~/.vscode/extensions/julialang.language-julia-1.38.2/scripts/packages/VSCodeServer/src/serve_notebook.jl:139\n",
      " [22] top-level scope\n",
      "    @ ~/.vscode/extensions/julialang.language-julia-1.38.2/scripts/notebook/notebook.jl:32"
     ]
    }
   ],
   "source": [
    "using Plots \n",
    "using StatsPlots\n",
    "using DataFrames\n",
    "using CSV\n",
    "\n",
    "Big   = \"Logs/LogTestBig1-2-3_copy.csv\"\n",
    "Small = \"Logs/LogTest1-2-3_copy2.csv\"\n",
    "Cash  = \"Logs/LogTestCash.csv\"\n",
    "df = CSV.File(Big) |> DataFrame"
   ]
  },
  {
   "attachments": {},
   "cell_type": "markdown",
   "metadata": {},
   "source": [
    "Зависимость времени записи от времени чтения (скрытый параметр - размер кванта)"
   ]
  },
  {
   "cell_type": "code",
   "execution_count": null,
   "metadata": {},
   "outputs": [],
   "source": [
    "@df df plot(:time_read, \n",
    "            :time_write, \n",
    "            group = :compresion_type, \n",
    "            xlabel = \"Time Read, c\",\n",
    "            ylabel = \"Time Write, c\",\n",
    "            marker = :circle)\n",
    "savefig(\"Plots/BigWrite_t(read_t).png\")\n"
   ]
  },
  {
   "attachments": {},
   "cell_type": "markdown",
   "metadata": {},
   "source": [
    "Зависимость коеффициента сжатия от размера кванта"
   ]
  },
  {
   "cell_type": "code",
   "execution_count": null,
   "metadata": {},
   "outputs": [],
   "source": [
    "@df df plot(:quant_points, \n",
    "            :compression_coef, \n",
    "            group = :compresion_type,\n",
    "            xlabel = \"Quant Points\",\n",
    "            ylabel = \"Compression Coef\", \n",
    "            marker = :circle)\n",
    "savefig(\"Plots/BigCompression_coef(quant_points).png\")"
   ]
  },
  {
   "attachments": {},
   "cell_type": "markdown",
   "metadata": {},
   "source": [
    "Зависимость времени чтения интервала от его размера"
   ]
  },
  {
   "cell_type": "code",
   "execution_count": null,
   "metadata": {},
   "outputs": [],
   "source": [
    "@df df plot(:read_interval_points, \n",
    "            :read_interval_time, \n",
    "            group = :compresion_type, \n",
    "            xlabel = \"Read Interval Points\",\n",
    "            ylabel = \"Read INterval TIme, c\",\n",
    "            marker = :circle)\n",
    "savefig(\"Plots/BigRead_interval_time(read_interval_points).png\")"
   ]
  }
 ],
 "metadata": {
  "kernelspec": {
   "display_name": "Julia 1.8.0-rc1",
   "language": "julia",
   "name": "julia-1.8"
  },
  "language_info": {
   "file_extension": ".jl",
   "mimetype": "application/julia",
   "name": "julia",
   "version": "1.8.0-rc1"
  },
  "orig_nbformat": 4
 },
 "nbformat": 4,
 "nbformat_minor": 2
}
